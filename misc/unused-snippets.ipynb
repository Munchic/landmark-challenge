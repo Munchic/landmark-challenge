{
 "cells": [
  {
   "cell_type": "code",
   "execution_count": null,
   "metadata": {},
   "outputs": [],
   "source": [
    "# Checking if CSV size is the same as image count. This might take very long (~20 mins).\n",
    "\n",
    "for op_id, ftype in enumerate(files):\n",
    "    csv_file = files[ftype][0]\n",
    "    img_dir = files[ftype][1]\n",
    "    \n",
    "    # check if already filtered\n",
    "    if len(csv_file) == len(os.listdir(img_dir)):\n",
    "        print('Dataset {0} out of 3 is fine'.format(op_id + 1))\n",
    "        break\n",
    "        \n",
    "    rows_to_drop = []\n",
    "    for row_idx in list(csv_file.index.values):\n",
    "        filename = None\n",
    "        if csv_file.loc[row_idx, 'url'] != None: # if there is link to download it\n",
    "            filename = csv_file.loc[row_idx, 'id'] + '.jpg'\n",
    "            path = os.path.join(img_dir, filename)\n",
    "        \n",
    "        if not filename or not os.path.exists(path):\n",
    "            rows_to_drop.append(row_idx)\n",
    "            \n",
    "    csv_file.drop(rows_to_drop, axis=0, inplace=True)\n",
    "    csv_file = csv_file.reset_index(drop=True)\n",
    "    \n",
    "    print('Resized dataset {0} out of 3'.format(op_id + 1))"
   ]
  }
 ],
 "metadata": {
  "kernelspec": {
   "display_name": "Python 3",
   "language": "python",
   "name": "python3"
  },
  "language_info": {
   "codemirror_mode": {
    "name": "ipython",
    "version": 3
   },
   "file_extension": ".py",
   "mimetype": "text/x-python",
   "name": "python",
   "nbconvert_exporter": "python",
   "pygments_lexer": "ipython3",
   "version": "3.6.5"
  }
 },
 "nbformat": 4,
 "nbformat_minor": 2
}
