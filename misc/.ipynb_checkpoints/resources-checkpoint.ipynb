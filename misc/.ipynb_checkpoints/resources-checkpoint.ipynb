{
 "cells": [
  {
   "cell_type": "markdown",
   "metadata": {},
   "source": [
    "# Useful links\n",
    "Source: https://www.kaggle.com/c/landmark-retrieval-2019/discussion/88454#latest-521518\n",
    "\n",
    "### Loading Data\n",
    "The data for this competition has to be downloaded from a provided list of urls.\n",
    "\n",
    "- Python downloader with progress bar: https://www.kaggle.com/anokas/python3-dataset-downloader-with-progress-bar\n",
    "\n",
    "### Image Augmentation\n",
    "\n",
    "- Image augmentation from Humpback Identification: https://www.kaggle.com/safavieh/image-augmentation-using-skimage\n",
    "\n",
    "### Extract Image Information\n",
    "\n",
    "- Extract Geographical Data From Image Description https://www.kaggle.com/wesamelshamy/extract-geographical-data-from-image-description\n",
    "\n",
    "- Image Feature Extraction and Matching: https://www.kaggle.com/wesamelshamy/tutorial-image-feature-extraction-and-matching\n",
    "\n",
    "### Useful Papers on the Topic\n",
    "\n",
    "- Deep Image Retrieval: Learning global representations for image search: https://arxiv.org/abs/1604.01325?context=cs\n",
    "\n",
    "- Large-Scale Image Retrieval with Attentive Deep Local Features: https://ai.google/research/pubs/pub45771\n",
    "\n",
    "- Easy Landmark Image Recognition with TensorFlow Hub DELF Module: https://www.dlology.com/blog/easy-landmark-image-recognition-with-tensorflow-hub-delf-module/\n",
    "\n",
    "### Posts and Baselines for Landmark Retrieval\n",
    "\n",
    "- Google Landmark Recognition using Transfer Learning: https://towardsdatascience.com/google-landmark-recognition-using-transfer-learning-dde35cc760e1\n",
    "\n",
    "- 14th place solution for Kaggle Google Landmark Retrieval Challenge: https://medium.com/@ducha.aiki/14th-place-solution-for-kaggle-google-landmark-retrieval-challenge-6d43e38eb513\n",
    "\n",
    "- 1st Place Solution Summary: CVSSP & Visual Atoms (0.627): https://www.kaggle.com/c/landmark-retrieval-challenge/discussion/57855#latest-481840\n"
   ]
  }
 ],
 "metadata": {
  "kernelspec": {
   "display_name": "Python 3",
   "language": "python",
   "name": "python3"
  },
  "language_info": {
   "codemirror_mode": {
    "name": "ipython",
    "version": 3
   },
   "file_extension": ".py",
   "mimetype": "text/x-python",
   "name": "python",
   "nbconvert_exporter": "python",
   "pygments_lexer": "ipython3",
   "version": "3.6.5"
  }
 },
 "nbformat": 4,
 "nbformat_minor": 2
}
